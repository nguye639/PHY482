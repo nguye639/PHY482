{
 "cells": [
  {
   "cell_type": "markdown",
   "metadata": {},
   "source": [
    "# Computing Electric Field Along the Axis of a Charged Ring With a Computer"
   ]
  },
  {
   "cell_type": "markdown",
   "metadata": {},
   "source": [
    "This program computes the net electric field due to a uniformly charged ring of radius $R$ and charge $Q$ at a given point in space."
   ]
  },
  {
   "cell_type": "code",
   "execution_count": 1,
   "metadata": {},
   "outputs": [
    {
     "data": {
      "text/html": [
       "<div id=\"glowscript\" class=\"glowscript\"></div>"
      ],
      "text/plain": [
       "<IPython.core.display.HTML object>"
      ]
     },
     "metadata": {},
     "output_type": "display_data"
    },
    {
     "data": {
      "application/javascript": [
       "if (typeof Jupyter !== \"undefined\") { window.__context = { glowscript_container: $(\"#glowscript\").removeAttr(\"id\")};}else{ element.textContent = ' ';}"
      ],
      "text/plain": [
       "<IPython.core.display.Javascript object>"
      ]
     },
     "metadata": {},
     "output_type": "display_data"
    }
   ],
   "source": [
    "from __future__ import division, print_function\n",
    "from vpython import *\n",
    "from math import *"
   ]
  },
  {
   "cell_type": "code",
   "execution_count": 8,
   "metadata": {},
   "outputs": [
    {
     "data": {
      "text/html": [
       "<div id=\"glowscript\" class=\"glowscript\"></div>"
      ],
      "text/plain": [
       "<IPython.core.display.HTML object>"
      ]
     },
     "metadata": {},
     "output_type": "display_data"
    },
    {
     "data": {
      "application/javascript": [
       "if (typeof Jupyter !== \"undefined\") { window.__context = { glowscript_container: $(\"#glowscript\").removeAttr(\"id\")};}else{ element.textContent = ' ';}"
      ],
      "text/plain": [
       "<IPython.core.display.Javascript object>"
      ]
     },
     "metadata": {},
     "output_type": "display_data"
    },
    {
     "name": "stdout",
     "output_type": "stream",
     "text": [
      "The net electric field =  <-3.41061e-12, -1.04308e-11, 0> N/C\n",
      "The net electric field =  <-0.00866584, -7759.74, 0> N/C\n",
      "The net electric field =  <-0.0173317, -3.63798e-11, 0> N/C\n",
      "The net electric field =  <-7759.76, -4.47926e-11, 0> N/C\n",
      "The net electric field =  <-0.0348886, -5.14433e-11, 0> N/C\n"
     ]
    }
   ],
   "source": [
    "scene=canvas(title=\"Electric field due to uniformly charged ring\")\n",
    "scene.background=color.white\n",
    "\n",
    "R= 0.02 #radius of ring in m\n",
    "Q= 1e-9 #charge of ring in C\n",
    "N= 25 #number of unique pieces\n",
    "\n",
    "#draw the objects\n",
    "\n",
    "myring = ring(pos=vector(0,0,0), radius=R, axis=vector(0,0,1), color=color.blue, thickness=0.02*R)\n",
    "zaxis=cylinder(pos=-2*R*myring.axis, radius=0.015*R, axis=4*R*myring.axis, color=color.black)\n",
    "    \n",
    "oofpez=9e9 #1/(4pi epsilon_0) in N m^2/C^2\n",
    "dq=Q/N #charge of a piece\n",
    "dtheta=2*pi/N #theta increment for our loop\n",
    "theta=dtheta/2 #initial theta for first piece of loop\n",
    "Enet=vector(0,0,0) #net electric field of all pieces\n",
    "\n",
    "point = []\n",
    "point.append(sphere(pos=vector(0,0,0), color=color.red, radius=5*zaxis.radius))\n",
    "point.append(sphere(pos=vector(0,.01,0), color=color.red, radius=5*zaxis.radius))\n",
    "point.append(sphere(pos=vector(0,-.01,0), color=color.red, radius=5*zaxis.radius))\n",
    "point.append(sphere(pos=vector(.01,0,0), color=color.red, radius=5*zaxis.radius))\n",
    "point.append(sphere(pos=vector(-.01,0,0), color=color.red, radius=5*zaxis.radius))\n",
    "\n",
    "for i in range(0,len(point)):\n",
    "    rpoint = point[i].pos\n",
    "    scale=1.2*mag(rpoint)/8000 #used to scale the arrows representing E-field\n",
    "    theta = 0\n",
    "    while theta<2*pi:\n",
    "        rpiece=R*vector(cos(theta),sin(theta),0) #location of piece\n",
    "        r=rpoint-rpiece #vector from piece to point in space\n",
    "        rmag=mag(r) #magnitude of r\n",
    "        rhat=norm(r) #unit vector for r\n",
    "        dE=oofpez*dq/rmag/rmag*rhat #Electric field due to piece at rpoint\n",
    "        Enet=Enet+dE #net electric field of the first one up to this one\n",
    "        particle=sphere(pos=rpiece, radius=point[i].radius, color=color.yellow) #draw a particle at center of piece\n",
    "        dEvector=arrow(pos=rpoint, axis=scale*dE, color=color.magenta, shaftwidth=point[i].radius/2)\n",
    "        theta=theta+dtheta\n",
    "\n",
    "    print(\"The net electric field = \",Enet, \"N/C\")\n",
    "    Evector=arrow(pos=rpoint, axis=scale*Enet, color=color.orange, shaftwidth=point[i].radius/2)\n"
   ]
  },
  {
   "cell_type": "code",
   "execution_count": 7,
   "metadata": {},
   "outputs": [
    {
     "data": {
      "text/html": [
       "<div id=\"glowscript\" class=\"glowscript\"></div>"
      ],
      "text/plain": [
       "<IPython.core.display.HTML object>"
      ]
     },
     "metadata": {},
     "output_type": "display_data"
    },
    {
     "data": {
      "application/javascript": [
       "if (typeof Jupyter !== \"undefined\") { window.__context = { glowscript_container: $(\"#glowscript\").removeAttr(\"id\")};}else{ element.textContent = ' ';}"
      ],
      "text/plain": [
       "<IPython.core.display.Javascript object>"
      ]
     },
     "metadata": {},
     "output_type": "display_data"
    },
    {
     "name": "stdout",
     "output_type": "stream",
     "text": [
      "The net electric field =  <-3.18323e-12, -1.00613e-11, 1120.79> N/C\n",
      "The net electric field =  <-0.00795299, -7606.76, 3227.14> N/C\n",
      "The net electric field =  <-0.015906, -3.7204e-11, 5333.48> N/C\n",
      "The net electric field =  <-7606.79, -4.52474e-11, 7439.82> N/C\n",
      "The net electric field =  <-0.0319808, -5.42713e-11, 9546.16> N/C\n"
     ]
    }
   ],
   "source": [
    "scene2=canvas(title=\"Electric field in a wire\")\n",
    "scene2.background=color.white\n",
    "\n",
    "R= 0.02 #radius of ring in m\n",
    "Q= 1e-9 #charge of ring in C\n",
    "N= 25 #number of unique pieces\n",
    "\n",
    "#draw the objects\n",
    "for i in range(-5,5):\n",
    "    myring = ring(pos=vector(0,0,i*.01), radius=R, axis=vector(0,0,1), color=color.blue, thickness=0.02*R)\n",
    "    zaxis=cylinder(pos=-2*R*myring.axis, radius=0.015*R, axis=4*R*myring.axis, color=color.black)\n",
    "    \n",
    "    \n",
    "oofpez=9e9 #1/(4pi epsilon_0) in N m^2/C^2\n",
    "dq=Q/N #charge of a piece\n",
    "dtheta=2*pi/N #theta increment for our loop\n",
    "theta=dtheta/2 #initial theta for first piece of loop\n",
    "Enet=vector(0,0,0) #net electric field of all pieces\n",
    "\n",
    "point = []\n",
    "point.append(sphere(pos=vector(0,0,0), color=color.red, radius=5*zaxis.radius))\n",
    "point.append(sphere(pos=vector(0,.01,0), color=color.red, radius=5*zaxis.radius))\n",
    "point.append(sphere(pos=vector(0,-.01,0), color=color.red, radius=5*zaxis.radius))\n",
    "point.append(sphere(pos=vector(.01,0,0), color=color.red, radius=5*zaxis.radius))\n",
    "point.append(sphere(pos=vector(-.01,0,0), color=color.red, radius=5*zaxis.radius))\n",
    "\n",
    "for i in range(0,len(point)):\n",
    "    rpoint = point[i].pos\n",
    "    scale=1.2*mag(rpoint)/8000 #used to scale the arrows representing E-field\n",
    "    theta = 0\n",
    "    for j in range(0,10):\n",
    "        while theta<2*pi:\n",
    "            rpiece=R*vector(cos(theta),sin(theta),-.05+.01*j) #location of piece\n",
    "            r=rpoint-rpiece #vector from piece to point in space\n",
    "            rmag=mag(r) #magnitude of r\n",
    "            rhat=norm(r) #unit vector for r\n",
    "            dE=oofpez*(dq-.5*j*dq)/rmag/rmag*rhat #Electric field due to piece at rpoint\n",
    "            Enet=Enet+dE #net electric field of the first one up to this one\n",
    "            particle=sphere(pos=rpiece, radius=point[i].radius, color=color.yellow) #draw a particle at center of piece\n",
    "            dEvector=arrow(pos=rpoint, axis=scale*dE, color=color.magenta, shaftwidth=point[i].radius/2)\n",
    "            theta=theta+dtheta\n",
    "\n",
    "    print(\"The net electric field = \",Enet, \"N/C\")\n",
    "    Evector=arrow(pos=rpoint, axis=scale*Enet, color=color.orange, shaftwidth=point[i].radius/2)\n"
   ]
  },
  {
   "cell_type": "code",
   "execution_count": null,
   "metadata": {},
   "outputs": [],
   "source": []
  }
 ],
 "metadata": {
  "kernelspec": {
   "display_name": "Python 3",
   "language": "python",
   "name": "python3"
  },
  "language_info": {
   "codemirror_mode": {
    "name": "ipython",
    "version": 3
   },
   "file_extension": ".py",
   "mimetype": "text/x-python",
   "name": "python",
   "nbconvert_exporter": "python",
   "pygments_lexer": "ipython3",
   "version": "3.7.4"
  }
 },
 "nbformat": 4,
 "nbformat_minor": 1
}
